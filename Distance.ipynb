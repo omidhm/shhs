{
 "cells": [
  {
   "cell_type": "code",
   "execution_count": 107,
   "id": "66f9a02c",
   "metadata": {},
   "outputs": [],
   "source": []
  },
  {
   "cell_type": "code",
   "execution_count": 114,
   "id": "4354c501",
   "metadata": {},
   "outputs": [],
   "source": [
    "import numpy as np\n",
    "import pandas as pd\n",
    "col_list = [\"a\", \"b\"]\n",
    "dfn = pd.read_csv(\"D:/Directory_D_Desk_jup/Ds_npy/Arousal1000f_STFT_n/htnderv_s2_nn.csv\", usecols=col_list)\n",
    "file_nn = []\n",
    "for i,pname in enumerate(dfn[\"a\"], 0):\n",
    "    if i%2 == 0:\n",
    "        file_nn.append(pname[:-7]+\".npy\")\n",
    "        \n",
    "        \n",
    "File_NAMES = [\"Signal_ABDO\", \"Signal_NEWAIR\", \"Signal_H\", \"Signal_ECG\", \"Signal_EOG_L\", \"Signal_EMG\", \"Signal_POSITION\", \"Signal_EOG_R\", \"Signal_THOR\", \"Signal_SaO2_OX\"]\n",
    "\n",
    "\n",
    "\n",
    "for file_name in File_NAMES:\n",
    "    for file1 in file_nn:\n",
    "        X = np.load(\"C:/Features/\"+file_name+\"_features/\"+file1)\n",
    "        temp = []\n",
    "        for file2 in file_nn:\n",
    "            Y = np.load(\"C:/Features/\"+file_name+\"_features/\"+file2)\n",
    "            A = np.linalg.norm(np.squeeze(X.reshape(-1,1))-np.squeeze(Y.reshape(-1,1)))\n",
    "            temp.append(A)\n",
    "        \n",
    "        np.save(\"C:/Features/Distance/\"+file_name+\"/\"+file1, temp)\n",
    "        \n",
    "        \n",
    "\n",
    "    \n"
   ]
  },
  {
   "cell_type": "code",
   "execution_count": 115,
   "id": "3bbb0ddb",
   "metadata": {},
   "outputs": [
    {
     "data": {
      "text/plain": [
       "array([1925.25735754,    0.        , 1805.56967203, ..., 2072.39262859,\n",
       "       2698.3352357 , 2025.88432074])"
      ]
     },
     "execution_count": 115,
     "metadata": {},
     "output_type": "execute_result"
    }
   ],
   "source": [
    "np.load(\"C:/Features/Distance/Signal_ABDO/shhs1-200023.npy\")"
   ]
  },
  {
   "cell_type": "code",
   "execution_count": null,
   "id": "c0ba4d49",
   "metadata": {},
   "outputs": [],
   "source": []
  },
  {
   "cell_type": "markdown",
   "id": "fc33c715",
   "metadata": {},
   "source": [
    "EEG Dist"
   ]
  },
  {
   "cell_type": "code",
   "execution_count": null,
   "id": "df8bfab0",
   "metadata": {},
   "outputs": [],
   "source": [
    "import numpy as np\n",
    "\n",
    "File_NAMES = [\"Signal_ABDO\", \"Signal_NEWAIR\", \"Signal_H\", \"Signal_ECG\", \"Signal_EOG_L\", \"Signal_EMG\", \"Signal_POSITION\", \"Signal_EOG_R\", \"Signal_THOR\", \"Signal_SaO2_OX\"]\n",
    "\n",
    "Dist = {}\n",
    "\n",
    "for file1 in file_nn:\n",
    "    X = np.load(\"C:/Features/\"+file_name+\"_features/\"+file1)\n",
    "\n",
    "    ######\n",
    "    print(np.isnan(np.squeeze(X.reshape(-1,1))))\n",
    "\n",
    "\n",
    "    temp = []\n",
    "    for file2 in file_nn[1100:1300]:\n",
    "        Y = np.load(\"C:/Features/\"+file_name+\"_features/\"+file2)\n",
    "        A = np.linalg.norm(np.squeeze(X.reshape(-1,1))-np.squeeze(Y.reshape(-1,1)))\n",
    "        temp.append(A)\n",
    "\n",
    "\n",
    "    Dist[file1]= temp\n",
    "\n",
    "    \n"
   ]
  }
 ],
 "metadata": {
  "kernelspec": {
   "display_name": "Python 3 (ipykernel)",
   "language": "python",
   "name": "python3"
  },
  "language_info": {
   "codemirror_mode": {
    "name": "ipython",
    "version": 3
   },
   "file_extension": ".py",
   "mimetype": "text/x-python",
   "name": "python",
   "nbconvert_exporter": "python",
   "pygments_lexer": "ipython3",
   "version": "3.10.4"
  }
 },
 "nbformat": 4,
 "nbformat_minor": 5
}
